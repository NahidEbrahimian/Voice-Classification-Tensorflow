{
  "nbformat": 4,
  "nbformat_minor": 0,
  "metadata": {
    "colab": {
      "provenance": []
    },
    "kernelspec": {
      "name": "python3",
      "display_name": "Python 3"
    },
    "language_info": {
      "name": "python"
    }
  },
  "cells": [
    {
      "cell_type": "code",
      "execution_count": null,
      "metadata": {
        "id": "RdhDPqDvnI4K"
      },
      "outputs": [],
      "source": [
        " %cd /content/drive/MyDrive/Voice_Classification"
      ]
    },
    {
      "cell_type": "code",
      "source": [
        " %cd /content/drive/MyDrive/Voice_Classification"
      ],
      "metadata": {
        "id": "i1uVXybunKnl"
      },
      "execution_count": null,
      "outputs": []
    },
    {
      "cell_type": "code",
      "source": [
        "import tensorflow as tf"
      ],
      "metadata": {
        "id": "uN9qFMSyoguh"
      },
      "execution_count": 4,
      "outputs": []
    },
    {
      "cell_type": "code",
      "source": [
        "dataset_path = \"./dataset\"\n",
        "\n",
        "train_data = tf.keras.utils.audio_dataset_from_directory(\n",
        "    dataset_path,\n",
        "    batch_size=4,\n",
        "    shuffle=True,\n",
        "    validation_split=0.2,\n",
        "    subset=\"training\",\n",
        "    output_sequence_length=48000,\n",
        "    ragged=False,\n",
        "    label_mode=\"categorical\", # binary: for two classes(for example men and women)\n",
        "    labels=\"inferred\",\n",
        "    sampling_rate=None,\n",
        "    seed=59\n",
        ")\n",
        "\n",
        "validation_data = tf.keras.utils.audio_dataset_from_directory(\n",
        "    dataset_path,\n",
        "    batch_size=4,\n",
        "    shuffle=True,\n",
        "    validation_split=0.2,\n",
        "    subset=\"validation\",\n",
        "    output_sequence_length=48000,\n",
        "    ragged=False,\n",
        "    label_mode=\"categorical\", # binary: for two classes(for example men and women)\n",
        "    labels=\"inferred\",\n",
        "    sampling_rate=None,\n",
        "    seed=59\n",
        ")"
      ],
      "metadata": {
        "id": "xEYOmtFKnYjw"
      },
      "execution_count": null,
      "outputs": []
    },
    {
      "cell_type": "code",
      "source": [
        "model = tf.keras.models.Sequential(\n",
        "    [\n",
        "     tf.keras.layers.Conv1D(32, kernel_size=80, strides=16, activation=\"relu\", input_shape=(48000, 1)),\n",
        "     tf.keras.layers.MaxPooling1D(4),\n",
        "     tf.keras.layers.Conv1D(32, kernel_size=3, activation=\"relu\"),\n",
        "     tf.keras.layers.MaxPooling1D(4),\n",
        "     tf.keras.layers.Conv1D(64, kernel_size=3, activation=\"relu\"),\n",
        "     tf.keras.layers.MaxPooling1D(4),\n",
        "     tf.keras.layers.Conv1D(64, kernel_size=3, activation=\"relu\"),\n",
        "     tf.keras.layers.MaxPooling1D(4),\n",
        "\n",
        "     tf.keras.layers.Flatten(),\n",
        "     tf.keras.layers.Dense(64, activation=\"relu\")\n",
        "     ]\n",
        ")"
      ],
      "metadata": {
        "id": "xLqcVgn0oKzX"
      },
      "execution_count": 12,
      "outputs": []
    },
    {
      "cell_type": "code",
      "source": [
        "model.summary()"
      ],
      "metadata": {
        "id": "zPdKiJDR69uM"
      },
      "execution_count": null,
      "outputs": []
    },
    {
      "cell_type": "code",
      "source": [
        "model.compile(\n",
        "    optimizer=tf.keras.optimizers.Adam(),\n",
        "    loss=tf.keras.losses.CategoricalCrossentropy(),\n",
        "    metrics=[\"accuracy\"]\n",
        ")"
      ],
      "metadata": {
        "id": "1roWUFdl7bNv"
      },
      "execution_count": 15,
      "outputs": []
    },
    {
      "cell_type": "code",
      "source": [
        "model.fit()"
      ],
      "metadata": {
        "id": "a0sc7IWx7_t9"
      },
      "execution_count": null,
      "outputs": []
    }
  ]
}
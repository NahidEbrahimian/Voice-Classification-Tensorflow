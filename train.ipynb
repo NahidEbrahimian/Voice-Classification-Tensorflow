{
  "nbformat": 4,
  "nbformat_minor": 0,
  "metadata": {
    "colab": {
      "provenance": []
    },
    "kernelspec": {
      "name": "python3",
      "display_name": "Python 3"
    },
    "language_info": {
      "name": "python"
    }
  },
  "cells": [
    {
      "cell_type": "code",
      "execution_count": 1,
      "metadata": {
        "id": "RdhDPqDvnI4K",
        "colab": {
          "base_uri": "https://localhost:8080/"
        },
        "outputId": "cb56dcc4-3b3f-426d-c5ac-a46dc482fa59"
      },
      "outputs": [
        {
          "output_type": "stream",
          "name": "stdout",
          "text": [
            "/content/drive/MyDrive/Voice_Classification\n"
          ]
        }
      ],
      "source": [
        " %cd /content/drive/MyDrive/Voice_Classification"
      ]
    },
    {
      "cell_type": "code",
      "source": [
        "import tensorflow as tf"
      ],
      "metadata": {
        "id": "uN9qFMSyoguh"
      },
      "execution_count": 2,
      "outputs": []
    },
    {
      "cell_type": "code",
      "source": [
        "dataset_path = \"./dataset\"\n",
        "\n",
        "train_data = tf.keras.utils.audio_dataset_from_directory(\n",
        "    dataset_path,\n",
        "    batch_size=4,\n",
        "    shuffle=True,\n",
        "    validation_split=0.2,\n",
        "    subset=\"training\",\n",
        "    output_sequence_length=48000,\n",
        "    ragged=False,\n",
        "    label_mode=\"categorical\", # binary: for two classes(for example men and women)\n",
        "    labels=\"inferred\",\n",
        "    sampling_rate=None,\n",
        "    seed=59\n",
        ")\n",
        "\n",
        "validation_data = tf.keras.utils.audio_dataset_from_directory(\n",
        "    dataset_path,\n",
        "    batch_size=4,\n",
        "    shuffle=True,\n",
        "    validation_split=0.2,\n",
        "    subset=\"validation\",\n",
        "    output_sequence_length=48000,\n",
        "    ragged=False,\n",
        "    label_mode=\"categorical\", # binary: for two classes(for example men and women)\n",
        "    labels=\"inferred\",\n",
        "    sampling_rate=None,\n",
        "    seed=59\n",
        ")"
      ],
      "metadata": {
        "id": "xEYOmtFKnYjw"
      },
      "execution_count": null,
      "outputs": []
    },
    {
      "cell_type": "code",
      "source": [
        "model = tf.keras.models.Sequential(\n",
        "    [\n",
        "     tf.keras.layers.Conv1D(32, kernel_size=80, strides=16, activation=\"relu\", input_shape=(48000, 1)),\n",
        "     tf.keras.layers.MaxPooling1D(4),\n",
        "     tf.keras.layers.Conv1D(32, kernel_size=3, activation=\"relu\"),\n",
        "     tf.keras.layers.MaxPooling1D(4),\n",
        "     tf.keras.layers.Conv1D(64, kernel_size=3, activation=\"relu\"),\n",
        "     tf.keras.layers.MaxPooling1D(4),\n",
        "     tf.keras.layers.Conv1D(64, kernel_size=3, activation=\"relu\"),\n",
        "     tf.keras.layers.MaxPooling1D(4),\n",
        "\n",
        "     tf.keras.layers.Flatten(),\n",
        "     tf.keras.layers.Dense(18, activation=\"softmax\")\n",
        "     ]\n",
        ")"
      ],
      "metadata": {
        "id": "xLqcVgn0oKzX"
      },
      "execution_count": 26,
      "outputs": []
    },
    {
      "cell_type": "code",
      "source": [
        "model.summary()"
      ],
      "metadata": {
        "id": "zPdKiJDR69uM"
      },
      "execution_count": null,
      "outputs": []
    },
    {
      "cell_type": "code",
      "source": [
        "model.compile(\n",
        "    optimizer=tf.keras.optimizers.Adam(),\n",
        "    loss=tf.keras.losses.CategoricalCrossentropy(),\n",
        "    metrics=[\"accuracy\"]\n",
        ")"
      ],
      "metadata": {
        "id": "1roWUFdl7bNv"
      },
      "execution_count": 28,
      "outputs": []
    },
    {
      "cell_type": "code",
      "source": [
        "model.fit(\n",
        "    train_data,\n",
        "    validation_data=validation_data,\n",
        "    epochs=20\n",
        ")"
      ],
      "metadata": {
        "id": "a0sc7IWx7_t9"
      },
      "execution_count": null,
      "outputs": []
    },
    {
      "cell_type": "code",
      "source": [],
      "metadata": {
        "id": "cOvmM6CtiOFF"
      },
      "execution_count": null,
      "outputs": []
    }
  ]
}
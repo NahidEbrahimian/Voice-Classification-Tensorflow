{
  "nbformat": 4,
  "nbformat_minor": 0,
  "metadata": {
    "colab": {
      "provenance": []
    },
    "kernelspec": {
      "name": "python3",
      "display_name": "Python 3"
    },
    "language_info": {
      "name": "python"
    }
  },
  "cells": [
    {
      "cell_type": "code",
      "execution_count": null,
      "metadata": {
        "id": "853qXC1Ynsx1"
      },
      "outputs": [],
      "source": [
        "%cd /content/drive/MyDrive/Voice_Recognition"
      ]
    },
    {
      "cell_type": "markdown",
      "source": [
        "Reference: https://github.com/jiaaro/pydub"
      ],
      "metadata": {
        "id": "8uyJm6xrpL3u"
      }
    },
    {
      "cell_type": "code",
      "source": [
        "# install requirements\n",
        "\n",
        "!pip install -r requirements.txt"
      ],
      "metadata": {
        "id": "XmNcDZVRnuV3"
      },
      "execution_count": null,
      "outputs": []
    },
    {
      "cell_type": "code",
      "source": [
        "# imports\n",
        "\n",
        "import pydub"
      ],
      "metadata": {
        "id": "G-zQjQynp9MP"
      },
      "execution_count": 4,
      "outputs": []
    },
    {
      "cell_type": "code",
      "source": [
        "voice1 = pydub.AudioSegment.from_file(\"raw_data/Nahid.ogg\")"
      ],
      "metadata": {
        "id": "rV3xlHdqqDYW"
      },
      "execution_count": 6,
      "outputs": []
    },
    {
      "cell_type": "code",
      "source": [
        "voice1"
      ],
      "metadata": {
        "id": "rAWkOQrBqmSP"
      },
      "execution_count": null,
      "outputs": []
    },
    {
      "cell_type": "code",
      "source": [
        "voice1.export(\"Nahid.mp3\")"
      ],
      "metadata": {
        "id": "g8-F-USZquDY"
      },
      "execution_count": null,
      "outputs": []
    },
    {
      "cell_type": "code",
      "source": [],
      "metadata": {
        "id": "D5wKVYeMq04c"
      },
      "execution_count": null,
      "outputs": []
    }
  ]
}
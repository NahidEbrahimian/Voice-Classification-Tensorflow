{
  "nbformat": 4,
  "nbformat_minor": 0,
  "metadata": {
    "colab": {
      "provenance": []
    },
    "kernelspec": {
      "name": "python3",
      "display_name": "Python 3"
    },
    "language_info": {
      "name": "python"
    }
  },
  "cells": [
    {
      "cell_type": "code",
      "execution_count": null,
      "metadata": {
        "id": "853qXC1Ynsx1"
      },
      "outputs": [],
      "source": [
        " %cd /content/drive/MyDrive/Voice_Classification"
      ]
    },
    {
      "cell_type": "markdown",
      "source": [
        "Reference: https://github.com/jiaaro/pydub"
      ],
      "metadata": {
        "id": "8uyJm6xrpL3u"
      }
    },
    {
      "cell_type": "code",
      "source": [
        "# Install requirements\n",
        "\n",
        "!pip install -r requirements.txt"
      ],
      "metadata": {
        "id": "XmNcDZVRnuV3"
      },
      "execution_count": null,
      "outputs": []
    },
    {
      "cell_type": "code",
      "source": [
        "# Imports\n",
        "\n",
        "import pydub\n",
        "import os\n",
        "from pathlib import Path\n",
        "import matplotlib.pyplot as plt\n"
      ],
      "metadata": {
        "id": "G-zQjQynp9MP"
      },
      "execution_count": 21,
      "outputs": []
    },
    {
      "cell_type": "code",
      "source": [
        "voice1 = pydub.AudioSegment.from_file(\"raw_data/Nahid.ogg\")"
      ],
      "metadata": {
        "id": "rV3xlHdqqDYW"
      },
      "execution_count": 13,
      "outputs": []
    },
    {
      "cell_type": "code",
      "source": [
        "voice1"
      ],
      "metadata": {
        "id": "rAWkOQrBqmSP"
      },
      "execution_count": null,
      "outputs": []
    },
    {
      "cell_type": "code",
      "source": [
        "# Export file\n",
        "\n",
        "voice1.export(\"Nahid.mp3\")"
      ],
      "metadata": {
        "id": "g8-F-USZquDY"
      },
      "execution_count": null,
      "outputs": []
    },
    {
      "cell_type": "code",
      "source": [
        "# Merge multi file of one class\n",
        "\n",
        "audios_files = \"./raw_data\"\n",
        "merged_files_directory = \"./merged_audios\"\n",
        "\n",
        "Path(merged_files_directory).mkdir(parents=True, exist_ok=True)\n",
        "\n",
        "for audio in os.listdir(audios_files):\n",
        "  voice_file1 = os.path.join(audios_files, audio)\n",
        "\n",
        "  print(voice_file1)\n",
        "  if \"_\" in Path(audio).stem:\n",
        "    if Path(audio).stem.split(\"_\")[1] == '1':\n",
        "      voice_file2 = voice_file1.replace('1','2')\n",
        "      voice1 = pydub.AudioSegment.from_file(voice_file1)\n",
        "      voice2 = pydub.AudioSegment.from_file(voice_file2)\n",
        "\n",
        "      merged_voice = voice1 + voice2\n",
        "      merged_voice.export(os.path.join( merged_files_directory, audio.split(\"_\")[0] + \".ogg\"), format=\"ogg\", bitrate=\"192k\")\n",
        "  else:\n",
        "    voice = pydub.AudioSegment.from_file(voice_file1)\n",
        "    voice.export(os.path.join(merged_files_directory, audio), format=\"ogg\", bitrate=\"192k\")\n",
        "    print(os.path.join(merged_files_directory, audio))"
      ],
      "metadata": {
        "id": "D5wKVYeMq04c"
      },
      "execution_count": null,
      "outputs": []
    },
    {
      "cell_type": "code",
      "source": [
        "# Plot voice\n",
        "\n",
        "voice_1 = pydub.AudioSegment.from_file(\"merged_audios/Nahid.ogg\")\n",
        "print(type(voice_1))\n",
        "\n",
        "voice_2 = voice_1.get_array_of_samples()\n",
        "print(type(voice_2))\n",
        "\n",
        "plt.figure(figsize=(20, 2))\n",
        "plt.plot(voice_2)\n",
        "plt.show()"
      ],
      "metadata": {
        "id": "zyi6PRIBloSz"
      },
      "execution_count": null,
      "outputs": []
    },
    {
      "cell_type": "code",
      "source": [
        "# Preprocessing: Remove silence from audios\n",
        "\"\"\"\n",
        "split_on_silence: remove silence from audios\n",
        "\"\"\"\n",
        "\n",
        "sound = pydub.AudioSegment.from_file(\"./merged_audios/Nahid.ogg\")\n",
        "audio_chunks = pydub.silence.split_on_silence(sound, min_silence_len=2000, silence_thresh=-45)\n",
        "audio_chunks"
      ],
      "metadata": {
        "id": "IggbtGA_n9BW"
      },
      "execution_count": null,
      "outputs": []
    },
    {
      "cell_type": "code",
      "source": [
        "merged_audio = sum(audio_chunks)\n",
        "merged_audio\n"
      ],
      "metadata": {
        "id": "8kHMjzSWqAzV"
      },
      "execution_count": null,
      "outputs": []
    },
    {
      "cell_type": "code",
      "source": [
        "audios_raw_dir_path = \"./merged_audios\"\n",
        "audios_remove_silence_dir_path = \"./wav_data\"\n",
        "Path(audios_remove_silence_dir_path).mkdir(exist_ok=True)\n",
        "\n",
        "for file in os.listdir(audios_raw_dir_path):\n",
        "    file_path = os.path.join(audios_raw_dir_path, file)\n",
        "    audio = pydub.AudioSegment.from_file(file_path)\n",
        "\n",
        "    # draw\n",
        "    print(file)\n",
        "    samples = audio.get_array_of_samples()\n",
        "    plt.figure(figsize=(20, 2), dpi=80)\n",
        "    plt.plot(samples)\n",
        "    plt.show()\n",
        "\n",
        "    # remove silence\n",
        "    audio_chunks = pydub.silence.split_on_silence(audio, min_silence_len = 2000, silence_thresh = -45)\n",
        "    combined_audio = sum(audio_chunks)\n",
        "    filename = Path(file_path).stem\n",
        "    output_file_path = os.path.join(audios_remove_silence_dir_path, filename + \".wav\")\n",
        "    combined_audio.export(output_file_path, format=\"wav\", bitrate=\"32k\")"
      ],
      "metadata": {
        "id": "AC5aKypIq4PP"
      },
      "execution_count": null,
      "outputs": []
    },
    {
      "cell_type": "code",
      "source": [],
      "metadata": {
        "id": "RMaqKkxks6fI"
      },
      "execution_count": null,
      "outputs": []
    }
  ]
}
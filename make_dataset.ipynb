{
  "nbformat": 4,
  "nbformat_minor": 0,
  "metadata": {
    "colab": {
      "provenance": []
    },
    "kernelspec": {
      "name": "python3",
      "display_name": "Python 3"
    },
    "language_info": {
      "name": "python"
    }
  },
  "cells": [
    {
      "cell_type": "code",
      "execution_count": 8,
      "metadata": {
        "id": "853qXC1Ynsx1",
        "colab": {
          "base_uri": "https://localhost:8080/"
        },
        "outputId": "1a6dc938-a3fe-4384-c527-1e7318eea557"
      },
      "outputs": [
        {
          "output_type": "stream",
          "name": "stdout",
          "text": [
            "/content/drive/MyDrive/Voice_Classification\n"
          ]
        }
      ],
      "source": [
        " %cd /content/drive/MyDrive/Voice_Classification"
      ]
    },
    {
      "cell_type": "markdown",
      "source": [
        "Reference: https://github.com/jiaaro/pydub"
      ],
      "metadata": {
        "id": "8uyJm6xrpL3u"
      }
    },
    {
      "cell_type": "code",
      "source": [
        "# Install requirements\n",
        "\n",
        "!pip install -r requirements.txt"
      ],
      "metadata": {
        "id": "XmNcDZVRnuV3",
        "colab": {
          "base_uri": "https://localhost:8080/"
        },
        "outputId": "e29d4ce6-3bf0-438f-f0d6-930678fc25f8"
      },
      "execution_count": 2,
      "outputs": [
        {
          "output_type": "stream",
          "name": "stdout",
          "text": [
            "Collecting pydub (from -r requirements.txt (line 1))\n",
            "  Downloading pydub-0.25.1-py2.py3-none-any.whl (32 kB)\n",
            "Collecting ffmpeg (from -r requirements.txt (line 2))\n",
            "  Downloading ffmpeg-1.4.tar.gz (5.1 kB)\n",
            "  Preparing metadata (setup.py) ... \u001b[?25l\u001b[?25hdone\n",
            "Requirement already satisfied: matplotlib in /usr/local/lib/python3.10/dist-packages (from -r requirements.txt (line 3)) (3.7.1)\n",
            "Requirement already satisfied: pathlib in /usr/local/lib/python3.10/dist-packages (from -r requirements.txt (line 4)) (1.0.1)\n",
            "Requirement already satisfied: contourpy>=1.0.1 in /usr/local/lib/python3.10/dist-packages (from matplotlib->-r requirements.txt (line 3)) (1.2.0)\n",
            "Requirement already satisfied: cycler>=0.10 in /usr/local/lib/python3.10/dist-packages (from matplotlib->-r requirements.txt (line 3)) (0.12.1)\n",
            "Requirement already satisfied: fonttools>=4.22.0 in /usr/local/lib/python3.10/dist-packages (from matplotlib->-r requirements.txt (line 3)) (4.47.2)\n",
            "Requirement already satisfied: kiwisolver>=1.0.1 in /usr/local/lib/python3.10/dist-packages (from matplotlib->-r requirements.txt (line 3)) (1.4.5)\n",
            "Requirement already satisfied: numpy>=1.20 in /usr/local/lib/python3.10/dist-packages (from matplotlib->-r requirements.txt (line 3)) (1.23.5)\n",
            "Requirement already satisfied: packaging>=20.0 in /usr/local/lib/python3.10/dist-packages (from matplotlib->-r requirements.txt (line 3)) (23.2)\n",
            "Requirement already satisfied: pillow>=6.2.0 in /usr/local/lib/python3.10/dist-packages (from matplotlib->-r requirements.txt (line 3)) (9.4.0)\n",
            "Requirement already satisfied: pyparsing>=2.3.1 in /usr/local/lib/python3.10/dist-packages (from matplotlib->-r requirements.txt (line 3)) (3.1.1)\n",
            "Requirement already satisfied: python-dateutil>=2.7 in /usr/local/lib/python3.10/dist-packages (from matplotlib->-r requirements.txt (line 3)) (2.8.2)\n",
            "Requirement already satisfied: six>=1.5 in /usr/local/lib/python3.10/dist-packages (from python-dateutil>=2.7->matplotlib->-r requirements.txt (line 3)) (1.16.0)\n",
            "Building wheels for collected packages: ffmpeg\n",
            "  Building wheel for ffmpeg (setup.py) ... \u001b[?25l\u001b[?25hdone\n",
            "  Created wheel for ffmpeg: filename=ffmpeg-1.4-py3-none-any.whl size=6080 sha256=0327d436c88346c5e38b2d1b804b4be8a7392cfb6d6e36182eab3b0bbba604a3\n",
            "  Stored in directory: /root/.cache/pip/wheels/8e/7a/69/cd6aeb83b126a7f04cbe7c9d929028dc52a6e7d525ff56003a\n",
            "Successfully built ffmpeg\n",
            "Installing collected packages: pydub, ffmpeg\n",
            "Successfully installed ffmpeg-1.4 pydub-0.25.1\n"
          ]
        }
      ]
    },
    {
      "cell_type": "code",
      "source": [
        "# Imports\n",
        "\n",
        "import pydub\n",
        "import os\n",
        "from pathlib import Path\n",
        "import matplotlib.pyplot as plt\n",
        "import shutil\n"
      ],
      "metadata": {
        "id": "G-zQjQynp9MP"
      },
      "execution_count": 3,
      "outputs": []
    },
    {
      "cell_type": "code",
      "source": [
        "voice1 = pydub.AudioSegment.from_file(\"raw_data/Nahid.ogg\")"
      ],
      "metadata": {
        "id": "rV3xlHdqqDYW"
      },
      "execution_count": null,
      "outputs": []
    },
    {
      "cell_type": "code",
      "source": [
        "voice1"
      ],
      "metadata": {
        "id": "rAWkOQrBqmSP"
      },
      "execution_count": null,
      "outputs": []
    },
    {
      "cell_type": "code",
      "source": [
        "# Export file\n",
        "\n",
        "voice1.export(\"Nahid.mp3\")"
      ],
      "metadata": {
        "id": "g8-F-USZquDY"
      },
      "execution_count": null,
      "outputs": []
    },
    {
      "cell_type": "code",
      "source": [
        "# Merge multi file of one class\n",
        "\n",
        "audios_files = \"./raw_data\"\n",
        "merged_files_directory = \"./merged_audios\"\n",
        "shutil.rmtree(merged_files_directory)\n",
        "\n",
        "Path(merged_files_directory).mkdir(parents=True, exist_ok=True)\n",
        "\n",
        "for audio in os.listdir(audios_files):\n",
        "  voice_file1 = os.path.join(audios_files, audio)\n",
        "\n",
        "  print(voice_file1)\n",
        "  if \"_\" in Path(audio).stem:\n",
        "    if Path(audio).stem.split(\"_\")[1] == '1':\n",
        "      voice_file2 = voice_file1.replace('1','2')\n",
        "      voice1 = pydub.AudioSegment.from_file(voice_file1)\n",
        "      voice2 = pydub.AudioSegment.from_file(voice_file2)\n",
        "\n",
        "      merged_voice = voice1 + voice2\n",
        "      merged_voice.export(os.path.join( merged_files_directory, audio.split(\"_\")[0] + \".ogg\"), format=\"ogg\", bitrate=\"192k\")\n",
        "  else:\n",
        "    voice = pydub.AudioSegment.from_file(voice_file1)\n",
        "    voice.export(os.path.join(merged_files_directory, audio), format=\"ogg\", bitrate=\"192k\")\n",
        "    print(os.path.join(merged_files_directory, audio))"
      ],
      "metadata": {
        "id": "D5wKVYeMq04c"
      },
      "execution_count": null,
      "outputs": []
    },
    {
      "cell_type": "code",
      "source": [
        "# Plot voice\n",
        "\n",
        "voice_1 = pydub.AudioSegment.from_file(\"merged_audios/Nahid.ogg\")\n",
        "print(type(voice_1))\n",
        "\n",
        "voice_2 = voice_1.get_array_of_samples()\n",
        "print(type(voice_2))\n",
        "\n",
        "plt.figure(figsize=(20, 2))\n",
        "plt.plot(voice_2)\n",
        "plt.show()"
      ],
      "metadata": {
        "id": "zyi6PRIBloSz"
      },
      "execution_count": null,
      "outputs": []
    },
    {
      "cell_type": "code",
      "source": [
        "# Preprocessing: Remove silence from audios\n",
        "\"\"\"\n",
        "split_on_silence: remove silence from audios\n",
        "\"\"\"\n",
        "\n",
        "sound = pydub.AudioSegment.from_file(\"./merged_audios/Nahid.ogg\")\n",
        "audio_chunks = pydub.silence.split_on_silence(sound, min_silence_len=2000, silence_thresh=-45)\n",
        "audio_chunks"
      ],
      "metadata": {
        "id": "IggbtGA_n9BW"
      },
      "execution_count": null,
      "outputs": []
    },
    {
      "cell_type": "code",
      "source": [
        "merged_audio = sum(audio_chunks)\n",
        "merged_audio\n"
      ],
      "metadata": {
        "id": "8kHMjzSWqAzV"
      },
      "execution_count": null,
      "outputs": []
    },
    {
      "cell_type": "code",
      "source": [
        "audios_raw_dir_path = \"./merged_audios\"\n",
        "audios_remove_silence_dir_path = \"./wav_data\"\n",
        "shutil.rmtree(audios_remove_silence_dir_path)\n",
        "Path(audios_remove_silence_dir_path).mkdir(exist_ok=True)\n",
        "\n",
        "for file in os.listdir(audios_raw_dir_path):\n",
        "    file_path = os.path.join(audios_raw_dir_path, file)\n",
        "    audio = pydub.AudioSegment.from_file(file_path)\n",
        "\n",
        "    # draw\n",
        "    print(file)\n",
        "    samples = audio.get_array_of_samples()\n",
        "    plt.figure(figsize=(20, 2), dpi=80)\n",
        "    plt.plot(samples)\n",
        "    plt.show()\n",
        "\n",
        "    # 32 bit to 16 bit\n",
        "    audio = audio.set_sample_width(2)\n",
        "    audio = audio.set_frame_rate(48000)\n",
        "    audio = audio.set_channels(1)\n",
        "\n",
        "    # remove silence\n",
        "    audio_chunks = pydub.silence.split_on_silence(audio, min_silence_len = 2000, silence_thresh = -45)\n",
        "    combined_audio = sum(audio_chunks)\n",
        "    filename = Path(file_path).stem\n",
        "    output_file_path = os.path.join(audios_remove_silence_dir_path, filename + \".wav\")\n",
        "    combined_audio.export(output_file_path, format=\"wav\", bitrate=\"32k\")"
      ],
      "metadata": {
        "id": "AC5aKypIq4PP"
      },
      "execution_count": null,
      "outputs": []
    },
    {
      "cell_type": "code",
      "source": [
        "shutil.rmtree(\"./dataset\")\n",
        "for file in os.listdir(\"./wav_data\"):\n",
        "    file_path = os.path.join(\"./wav_data\", file)\n",
        "    audio = pydub.AudioSegment.from_file(file_path)\n",
        "    chunks = pydub.utils.make_chunks(audio, 1000)\n",
        "    os.makedirs(os.path.join(\"./dataset\", Path(file).stem), exist_ok=True)\n",
        "    for i, chunk in enumerate(chunks):\n",
        "      if len(chunk) >= 1000:\n",
        "        print(os.path.join(\"./dataset\", Path(file).stem, f\"voice_{i}.wav\"))\n",
        "        chunk.export(os.path.join(\"./dataset\", Path(file).stem, f\"voice_{i}.wav\"), format=\"wav\")\n"
      ],
      "metadata": {
        "id": "RMaqKkxks6fI"
      },
      "execution_count": null,
      "outputs": []
    },
    {
      "cell_type": "code",
      "source": [],
      "metadata": {
        "id": "LiEG5VJGPlJb"
      },
      "execution_count": null,
      "outputs": []
    }
  ]
}